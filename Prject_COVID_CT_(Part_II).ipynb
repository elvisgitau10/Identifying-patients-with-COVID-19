{
  "nbformat": 4,
  "nbformat_minor": 0,
  "metadata": {
    "colab": {
      "name": "Prject COVID-CT (Part II)",
      "provenance": [],
      "collapsed_sections": [],
      "mount_file_id": "1bGPrBpHh7RHEB25c1b7r_Xh0jcsQ4uqU",
      "authorship_tag": "ABX9TyO/TQx8huAq4fwV9w72VYC+",
      "include_colab_link": true
    },
    "kernelspec": {
      "name": "python3",
      "display_name": "Python 3"
    },
    "language_info": {
      "name": "python"
    },
    "accelerator": "GPU"
  },
  "cells": [
    {
      "cell_type": "markdown",
      "metadata": {
        "id": "view-in-github",
        "colab_type": "text"
      },
      "source": [
        "<a href=\"https://colab.research.google.com/github/elvisgitau10/Identifying-patients-with-COVID-19/blob/main/Prject_COVID_CT_(Part_II).ipynb\" target=\"_parent\"><img src=\"https://colab.research.google.com/assets/colab-badge.svg\" alt=\"Open In Colab\"/></a>"
      ]
    },
    {
      "cell_type": "code",
      "metadata": {
        "id": "nPYBo-ksmsCZ"
      },
      "source": [
        "# import libraries"
      ],
      "execution_count": null,
      "outputs": []
    },
    {
      "cell_type": "code",
      "metadata": {
        "id": "dfu23HX-nNne"
      },
      "source": [
        "import keras\n",
        "import matplotlib.pyplot as plt\n",
        "from keras.layers import Dense, GlobalAveragePooling2D, Dropout\n",
        "from keras.applications import densenet\n",
        "from keras.preprocessing.image import ImageDataGenerator\n",
        "from  keras.models import Model\n",
        "from keras.optimizers import Adam\n",
        "from keras.callbacks import ModelCheckpoint, EarlyStopping\n",
        "\n",
        "from sklearn.metrics import confusion_matrix, classification_report\n",
        "\n",
        "import numpy as np\n"
      ],
      "execution_count": null,
      "outputs": []
    },
    {
      "cell_type": "code",
      "metadata": {
        "id": "PoJJmSOMpCpb"
      },
      "source": [
        "# Use transfer learning with DenseNet169\n",
        "base_model = densenet.DenseNet169(weights=\"imagenet\", include_top = False)\n",
        "x= base_model.output\n",
        "x=GlobalAveragePooling2D()(x)\n",
        "x = Dropout (0.5)(x)\n",
        "\n",
        "preds = Dense (2,activation=\"sigmoid\")(x)\n",
        "\n",
        "model = Model(inputs=base_model.input, outputs = preds )"
      ],
      "execution_count": null,
      "outputs": []
    },
    {
      "cell_type": "code",
      "metadata": {
        "id": "-BVz0OKbqN32"
      },
      "source": [
        "# declare batch size\n",
        "BATCH_size =16\n"
      ],
      "execution_count": null,
      "outputs": []
    },
    {
      "cell_type": "code",
      "metadata": {
        "id": "6X-k4my4qqjd"
      },
      "source": [
        "# declare ImageDataGenerator objects\n",
        "train_datagen = ImageDataGenerator(rescale=1./255,\n",
        "                                   shear_range = 0.2,\n",
        "                                   zoom_range=0.2,\n",
        "                                   brightness_range = [0.2,1.0],\n",
        "                                   horizontal_flip = True)\n",
        "test_datagen = ImageDataGenerator(rescale=1./255) "
      ],
      "execution_count": null,
      "outputs": []
    },
    {
      "cell_type": "code",
      "metadata": {
        "colab": {
          "base_uri": "https://localhost:8080/"
        },
        "id": "IIdjUjuZri-A",
        "outputId": "26dda576-0d34-4180-ec1b-a163b110af42"
      },
      "source": [
        "# create generators\n",
        "train_generator = train_datagen.flow_from_directory(\"/content/drive/MyDrive/CT Scans/output/train/\",\n",
        "                                                    target_size = (480,480),\n",
        "                                                     color_mode = \"rgb\",\n",
        "                                                    batch_size=BATCH_size,\n",
        "                                                    class_mode =\"categorical\",\n",
        "                                                    shuffle =True)"
      ],
      "execution_count": null,
      "outputs": [
        {
          "output_type": "stream",
          "text": [
            "Found 521 images belonging to 2 classes.\n"
          ],
          "name": "stdout"
        }
      ]
    },
    {
      "cell_type": "code",
      "metadata": {
        "colab": {
          "base_uri": "https://localhost:8080/"
        },
        "id": "f9tbb5a4slEM",
        "outputId": "cabdcd7d-0a15-413f-952f-dedabb91f035"
      },
      "source": [
        "# create generators\n",
        "val_generator = train_datagen.flow_from_directory(\"/content/drive/MyDrive/CT Scans/output/val/\",\n",
        "                                                    target_size = (480,480),\n",
        "                                                     color_mode = \"rgb\",\n",
        "                                                    batch_size=BATCH_size,\n",
        "                                                    class_mode =\"categorical\",\n",
        "                                                    shuffle =True)"
      ],
      "execution_count": null,
      "outputs": [
        {
          "output_type": "stream",
          "text": [
            "Found 111 images belonging to 2 classes.\n"
          ],
          "name": "stdout"
        }
      ]
    },
    {
      "cell_type": "code",
      "metadata": {
        "colab": {
          "base_uri": "https://localhost:8080/"
        },
        "id": "hkJBWoSzs-B1",
        "outputId": "d460fdf0-aee2-4a0f-a69a-c1ff5bca7433"
      },
      "source": [
        "test_generator = test_datagen.flow_from_directory(\"/content/drive/MyDrive/CT Scans/output/test/\",\n",
        "                                                  shuffle= False)"
      ],
      "execution_count": null,
      "outputs": [
        {
          "output_type": "stream",
          "text": [
            "Found 114 images belonging to 2 classes.\n"
          ],
          "name": "stdout"
        }
      ]
    },
    {
      "cell_type": "code",
      "metadata": {
        "id": "hAnzzPiZthHL"
      },
      "source": [
        "# declare callbacks for our model training\n",
        "es = EarlyStopping(monitor= \"val_loss\", patience= 3)\n",
        "mc = ModelCheckpoint(\"/content/drive/MyDrive/Project COVID-CT/best_model.h5\",\n",
        "                     save_best_only = True)"
      ],
      "execution_count": null,
      "outputs": []
    },
    {
      "cell_type": "code",
      "metadata": {
        "id": "h4aMEV3IuN4r"
      },
      "source": [
        "# compile model for training\n",
        "model.compile(optimizer= Adam(learning_rate = 0.0001),\n",
        "              loss = \"binary_crossentropy\",\n",
        "              metrics = [\"accuracy\"])"
      ],
      "execution_count": null,
      "outputs": []
    },
    {
      "cell_type": "code",
      "metadata": {
        "id": "dH-0jrPKuqbY",
        "colab": {
          "base_uri": "https://localhost:8080/"
        },
        "outputId": "fc24b6c8-05e9-4029-f140-de69858b6d18"
      },
      "source": [
        "# train our model\n",
        "history = model.fit (train_generator,\n",
        "                     steps_per_epoch = train_generator.samples // BATCH_size,\n",
        "                     validation_data = val_generator,\n",
        "                     validation_steps = val_generator.samples // BATCH_size,\n",
        "                     epochs = 50,\n",
        "                     callbacks = [es,mc])\n"
      ],
      "execution_count": null,
      "outputs": [
        {
          "output_type": "stream",
          "text": [
            "Epoch 1/50\n",
            "32/32 [==============================] - 246s 5s/step - loss: 0.7084 - accuracy: 0.5701 - val_loss: 0.5949 - val_accuracy: 0.7188\n",
            "Epoch 2/50\n",
            "32/32 [==============================] - 42s 1s/step - loss: 0.4153 - accuracy: 0.8176 - val_loss: 0.5829 - val_accuracy: 0.6667\n",
            "Epoch 3/50\n",
            "32/32 [==============================] - 42s 1s/step - loss: 0.3600 - accuracy: 0.8632 - val_loss: 0.4566 - val_accuracy: 0.8229\n",
            "Epoch 4/50\n",
            "32/32 [==============================] - 42s 1s/step - loss: 0.2726 - accuracy: 0.8956 - val_loss: 0.4506 - val_accuracy: 0.8229\n",
            "Epoch 5/50\n",
            "32/32 [==============================] - 42s 1s/step - loss: 0.1561 - accuracy: 0.9524 - val_loss: 0.3788 - val_accuracy: 0.7917\n",
            "Epoch 6/50\n",
            "32/32 [==============================] - 42s 1s/step - loss: 0.2415 - accuracy: 0.9066 - val_loss: 0.3804 - val_accuracy: 0.8333\n",
            "Epoch 7/50\n",
            "32/32 [==============================] - 42s 1s/step - loss: 0.1329 - accuracy: 0.9472 - val_loss: 0.3970 - val_accuracy: 0.7917\n",
            "Epoch 8/50\n",
            "32/32 [==============================] - 42s 1s/step - loss: 0.0710 - accuracy: 0.9923 - val_loss: 0.2968 - val_accuracy: 0.8438\n",
            "Epoch 9/50\n",
            "32/32 [==============================] - 42s 1s/step - loss: 0.1070 - accuracy: 0.9614 - val_loss: 0.4953 - val_accuracy: 0.8125\n",
            "Epoch 10/50\n",
            "32/32 [==============================] - 42s 1s/step - loss: 0.0682 - accuracy: 0.9742 - val_loss: 0.5345 - val_accuracy: 0.8125\n",
            "Epoch 11/50\n",
            "32/32 [==============================] - 42s 1s/step - loss: 0.0849 - accuracy: 0.9677 - val_loss: 0.1705 - val_accuracy: 0.8958\n",
            "Epoch 12/50\n",
            "32/32 [==============================] - 42s 1s/step - loss: 0.0960 - accuracy: 0.9576 - val_loss: 0.2502 - val_accuracy: 0.8854\n",
            "Epoch 13/50\n",
            "32/32 [==============================] - 41s 1s/step - loss: 0.0468 - accuracy: 0.9877 - val_loss: 0.2243 - val_accuracy: 0.8958\n",
            "Epoch 14/50\n",
            "32/32 [==============================] - 41s 1s/step - loss: 0.0418 - accuracy: 0.9843 - val_loss: 0.1931 - val_accuracy: 0.9271\n"
          ],
          "name": "stdout"
        }
      ]
    },
    {
      "cell_type": "code",
      "metadata": {
        "colab": {
          "base_uri": "https://localhost:8080/",
          "height": 282
        },
        "id": "MX4V0QuHx4nG",
        "outputId": "29d006ba-3015-46f3-8a33-a228da8108b5"
      },
      "source": [
        "plt. plot(history.epoch, history.history[\"loss\"])\n",
        "plt. plot(history.epoch, history.history[\"val_loss\"], color =\"orange\")"
      ],
      "execution_count": null,
      "outputs": [
        {
          "output_type": "execute_result",
          "data": {
            "text/plain": [
              "[<matplotlib.lines.Line2D at 0x7f458a1b7250>]"
            ]
          },
          "metadata": {
            "tags": []
          },
          "execution_count": 18
        },
        {
          "output_type": "display_data",
          "data": {
            "image/png": "[encoded data removed]",
            "text/plain": [
              "<Figure size 432x288 with 1 Axes>"
            ]
          },
          "metadata": {
            "tags": [],
            "needs_background": "light"
          }
        }
      ]
    },
    {
      "cell_type": "code",
      "metadata": {
        "colab": {
          "base_uri": "https://localhost:8080/",
          "height": 282
        },
        "id": "aPKNe84y2zgt",
        "outputId": "11bcfe8b-24af-4104-8346-ff199f14d737"
      },
      "source": [
        "plt. plot(history.epoch, history.history[\"accuracy\"])\n",
        "plt. plot(history.epoch, history.history[\"val_accuracy\"], color =\"orange\")"
      ],
      "execution_count": null,
      "outputs": [
        {
          "output_type": "execute_result",
          "data": {
            "text/plain": [
              "[<matplotlib.lines.Line2D at 0x7f456a02d9d0>]"
            ]
          },
          "metadata": {
            "tags": []
          },
          "execution_count": 19
        },
        {
          "output_type": "display_data",
          "data": {
            "image/png": "[encoded data removed]",
            "text/plain": [
              "<Figure size 432x288 with 1 Axes>"
            ]
          },
          "metadata": {
            "tags": [],
            "needs_background": "light"
          }
        }
      ]
    },
    {
      "cell_type": "code",
      "metadata": {
        "colab": {
          "base_uri": "https://localhost:8080/"
        },
        "id": "XvaDVXhq3A1m",
        "outputId": "99b9382f-95fd-48b6-e443-e968afef912e"
      },
      "source": [
        "# look at the test generator classes\n",
        "test_generator.classes"
      ],
      "execution_count": null,
      "outputs": [
        {
          "output_type": "execute_result",
          "data": {
            "text/plain": [
              "array([0, 0, 0, 0, 0, 0, 0, 0, 0, 0, 0, 0, 0, 0, 0, 0, 0, 0, 0, 0, 0, 0,\n",
              "       0, 0, 0, 0, 0, 0, 0, 0, 0, 0, 0, 0, 0, 0, 0, 0, 0, 0, 0, 0, 0, 0,\n",
              "       0, 0, 0, 0, 0, 0, 0, 0, 0, 1, 1, 1, 1, 1, 1, 1, 1, 1, 1, 1, 1, 1,\n",
              "       1, 1, 1, 1, 1, 1, 1, 1, 1, 1, 1, 1, 1, 1, 1, 1, 1, 1, 1, 1, 1, 1,\n",
              "       1, 1, 1, 1, 1, 1, 1, 1, 1, 1, 1, 1, 1, 1, 1, 1, 1, 1, 1, 1, 1, 1,\n",
              "       1, 1, 1, 1], dtype=int32)"
            ]
          },
          "metadata": {
            "tags": []
          },
          "execution_count": 20
        }
      ]
    },
    {
      "cell_type": "code",
      "metadata": {
        "colab": {
          "base_uri": "https://localhost:8080/"
        },
        "id": "_5asMURJ3aLT",
        "outputId": "5d6871fd-b133-435c-9eac-88210f46ff0c"
      },
      "source": [
        "# make predictions using test dat\n",
        "predictions = model.predict(test_generator)\n",
        "predictions"
      ],
      "execution_count": null,
      "outputs": [
        {
          "output_type": "execute_result",
          "data": {
            "text/plain": [
              "array([[2.67862469e-01, 8.45108747e-01],\n",
              "       [9.57609534e-01, 1.53121114e-01],\n",
              "       [7.06668794e-01, 6.13722384e-01],\n",
              "       [9.99991059e-01, 3.81607824e-05],\n",
              "       [1.09540742e-04, 9.99966502e-01],\n",
              "       [7.39009023e-01, 4.00233209e-01],\n",
              "       [9.99999762e-01, 3.08824006e-08],\n",
              "       [9.99999762e-01, 3.24602439e-07],\n",
              "       [9.99746144e-01, 3.45271284e-04],\n",
              "       [4.98605566e-03, 9.90388453e-01],\n",
              "       [9.98525202e-01, 2.29477533e-03],\n",
              "       [9.99436915e-01, 1.23933959e-03],\n",
              "       [8.87413502e-01, 7.43939355e-02],\n",
              "       [9.96726751e-01, 2.92296195e-03],\n",
              "       [9.99999404e-01, 5.52915481e-07],\n",
              "       [9.99997377e-01, 1.55764712e-06],\n",
              "       [9.98407781e-01, 3.55471927e-03],\n",
              "       [9.99832034e-01, 1.57148606e-04],\n",
              "       [1.00000000e+00, 6.21999452e-10],\n",
              "       [9.93428051e-01, 2.83612963e-02],\n",
              "       [6.30848885e-01, 7.18632936e-01],\n",
              "       [9.99999523e-01, 6.82564803e-07],\n",
              "       [9.99995828e-01, 1.85138197e-05],\n",
              "       [9.99997377e-01, 3.66113863e-06],\n",
              "       [9.17941630e-01, 6.48444295e-02],\n",
              "       [8.30525219e-01, 1.97078452e-01],\n",
              "       [9.99703705e-01, 1.32580200e-04],\n",
              "       [1.00000000e+00, 3.12008419e-10],\n",
              "       [1.61377177e-01, 9.45190609e-01],\n",
              "       [9.99954939e-01, 5.60875415e-05],\n",
              "       [2.05886126e-01, 9.55728829e-01],\n",
              "       [9.99517083e-01, 1.03438389e-03],\n",
              "       [9.86980736e-01, 9.04432964e-03],\n",
              "       [6.82139754e-01, 3.24602395e-01],\n",
              "       [9.99979973e-01, 1.75355708e-05],\n",
              "       [1.00000000e+00, 3.69592567e-13],\n",
              "       [9.99999762e-01, 3.55619036e-08],\n",
              "       [9.88905549e-01, 1.04492567e-02],\n",
              "       [9.85653043e-01, 2.50085350e-02],\n",
              "       [9.99685526e-01, 6.42024039e-04],\n",
              "       [8.79974723e-01, 1.56140998e-01],\n",
              "       [1.00000000e+00, 1.25170716e-11],\n",
              "       [1.00000000e+00, 7.43501788e-11],\n",
              "       [1.00000000e+00, 1.35284089e-10],\n",
              "       [1.00000000e+00, 1.10044656e-12],\n",
              "       [1.00000000e+00, 3.18424312e-15],\n",
              "       [9.98395145e-01, 1.62224635e-03],\n",
              "       [2.16313496e-01, 7.62827516e-01],\n",
              "       [9.99697804e-01, 1.03874877e-03],\n",
              "       [1.00000000e+00, 1.03300028e-10],\n",
              "       [9.91663218e-01, 1.81812383e-02],\n",
              "       [4.49679792e-02, 9.46392477e-01],\n",
              "       [9.17326748e-01, 1.02906704e-01],\n",
              "       [5.72250315e-07, 9.99999046e-01],\n",
              "       [2.34919548e-06, 9.99998689e-01],\n",
              "       [1.95920519e-11, 1.00000000e+00],\n",
              "       [1.00692388e-09, 1.00000000e+00],\n",
              "       [6.01085759e-08, 1.00000000e+00],\n",
              "       [1.18605449e-05, 9.99983788e-01],\n",
              "       [4.38468888e-08, 1.00000000e+00],\n",
              "       [3.21949035e-01, 3.56653363e-01],\n",
              "       [5.17594367e-02, 9.69307721e-01],\n",
              "       [1.10047622e-05, 9.99981523e-01],\n",
              "       [9.50532026e-08, 9.99999881e-01],\n",
              "       [9.99394059e-01, 1.18382031e-03],\n",
              "       [1.40550682e-07, 1.00000000e+00],\n",
              "       [4.91495266e-05, 9.99984980e-01],\n",
              "       [1.11161214e-09, 1.00000000e+00],\n",
              "       [7.36430309e-07, 9.99999523e-01],\n",
              "       [3.51789951e-01, 8.76777112e-01],\n",
              "       [9.87619162e-01, 2.72172354e-02],\n",
              "       [1.23187294e-06, 9.99993801e-01],\n",
              "       [9.10382551e-06, 9.99993563e-01],\n",
              "       [2.68221665e-02, 9.83737171e-01],\n",
              "       [1.35430484e-04, 9.99951363e-01],\n",
              "       [1.24577445e-03, 9.99756992e-01],\n",
              "       [9.84369040e-01, 1.46289850e-02],\n",
              "       [1.32528628e-04, 9.99907970e-01],\n",
              "       [4.31467515e-06, 9.99996901e-01],\n",
              "       [2.30503883e-05, 9.99986768e-01],\n",
              "       [4.13223063e-07, 9.99999642e-01],\n",
              "       [2.14642071e-07, 9.99999762e-01],\n",
              "       [3.79500748e-03, 9.98204231e-01],\n",
              "       [9.76462834e-05, 9.99869943e-01],\n",
              "       [1.93539768e-01, 9.56587672e-01],\n",
              "       [7.22695040e-05, 9.99869108e-01],\n",
              "       [8.85102549e-04, 9.99127328e-01],\n",
              "       [8.98658298e-04, 9.99237299e-01],\n",
              "       [5.06912395e-02, 9.91890311e-01],\n",
              "       [2.27859528e-06, 9.99998331e-01],\n",
              "       [6.91911282e-06, 9.99996185e-01],\n",
              "       [3.33809147e-10, 1.00000000e+00],\n",
              "       [1.31455163e-13, 1.00000000e+00],\n",
              "       [2.64726877e-01, 3.60281765e-01],\n",
              "       [5.47800198e-07, 9.99998689e-01],\n",
              "       [3.62574951e-07, 9.99999642e-01],\n",
              "       [6.24803070e-04, 9.99481857e-01],\n",
              "       [2.63724156e-04, 9.99811351e-01],\n",
              "       [2.42402552e-06, 9.99999881e-01],\n",
              "       [1.98991601e-09, 1.00000000e+00],\n",
              "       [7.23849684e-02, 9.21375811e-01],\n",
              "       [1.81571813e-03, 9.99553263e-01],\n",
              "       [1.45233258e-07, 9.99999881e-01],\n",
              "       [1.85558207e-07, 9.99999881e-01],\n",
              "       [4.41235898e-06, 9.99996424e-01],\n",
              "       [1.95690617e-03, 9.99157310e-01],\n",
              "       [5.61468684e-11, 1.00000000e+00],\n",
              "       [1.18197461e-08, 1.00000000e+00],\n",
              "       [1.57275526e-08, 1.00000000e+00],\n",
              "       [8.78933445e-03, 9.94465292e-01],\n",
              "       [4.92798108e-07, 1.00000000e+00],\n",
              "       [8.53796257e-04, 9.97783959e-01],\n",
              "       [3.17855563e-04, 9.99671698e-01],\n",
              "       [3.78905611e-07, 9.99999166e-01]], dtype=float32)"
            ]
          },
          "metadata": {
            "tags": []
          },
          "execution_count": 21
        }
      ]
    },
    {
      "cell_type": "code",
      "metadata": {
        "colab": {
          "base_uri": "https://localhost:8080/"
        },
        "id": "zk52te5v3mW7",
        "outputId": "62001775-19e4-49a1-ef88-2205ffd211c8"
      },
      "source": [
        "# use numpy to get predicted classses out\n",
        "single_pred = np.argmax(predictions, axis =1)\n",
        "single_pred"
      ],
      "execution_count": null,
      "outputs": [
        {
          "output_type": "execute_result",
          "data": {
            "text/plain": [
              "array([1, 0, 0, 0, 1, 0, 0, 0, 0, 1, 0, 0, 0, 0, 0, 0, 0, 0, 0, 0, 1, 0,\n",
              "       0, 0, 0, 0, 0, 0, 1, 0, 1, 0, 0, 0, 0, 0, 0, 0, 0, 0, 0, 0, 0, 0,\n",
              "       0, 0, 0, 1, 0, 0, 0, 1, 0, 1, 1, 1, 1, 1, 1, 1, 1, 1, 1, 1, 0, 1,\n",
              "       1, 1, 1, 1, 0, 1, 1, 1, 1, 1, 0, 1, 1, 1, 1, 1, 1, 1, 1, 1, 1, 1,\n",
              "       1, 1, 1, 1, 1, 1, 1, 1, 1, 1, 1, 1, 1, 1, 1, 1, 1, 1, 1, 1, 1, 1,\n",
              "       1, 1, 1, 1])"
            ]
          },
          "metadata": {
            "tags": []
          },
          "execution_count": 23
        }
      ]
    },
    {
      "cell_type": "code",
      "metadata": {
        "colab": {
          "base_uri": "https://localhost:8080/"
        },
        "id": "gQBi49bn3_yf",
        "outputId": "498ebd72-e276-450d-e1dd-4256517522ca"
      },
      "source": [
        "confusion_matrix(test_generator.classes, single_pred)"
      ],
      "execution_count": null,
      "outputs": [
        {
          "output_type": "execute_result",
          "data": {
            "text/plain": [
              "array([[45,  8],\n",
              "       [ 3, 58]])"
            ]
          },
          "metadata": {
            "tags": []
          },
          "execution_count": 24
        }
      ]
    },
    {
      "cell_type": "code",
      "metadata": {
        "colab": {
          "base_uri": "https://localhost:8080/"
        },
        "id": "hne-mguf4Vyi",
        "outputId": "8c6e7693-7fe3-4f6b-b28e-2e9a94e2a8d0"
      },
      "source": [
        "print(classification_report(test_generator.classes, single_pred))"
      ],
      "execution_count": null,
      "outputs": [
        {
          "output_type": "stream",
          "text": [
            "              precision    recall  f1-score   support\n",
            "\n",
            "           0       0.94      0.85      0.89        53\n",
            "           1       0.88      0.95      0.91        61\n",
            "\n",
            "    accuracy                           0.90       114\n",
            "   macro avg       0.91      0.90      0.90       114\n",
            "weighted avg       0.91      0.90      0.90       114\n",
            "\n"
          ],
          "name": "stdout"
        }
      ]
    },
    {
      "cell_type": "code",
      "metadata": {
        "colab": {
          "base_uri": "https://localhost:8080/"
        },
        "id": "SeCrOjtk4lb3",
        "outputId": "4c83c536-184e-4407-fd63-751b110fb6c3"
      },
      "source": [
        "from keras.models import load_model\n",
        "saved_model = load_model(\"/content/drive/MyDrive/Project COVID-CT/best_model.h5\")\n",
        "saved_model"
      ],
      "execution_count": null,
      "outputs": [
        {
          "output_type": "execute_result",
          "data": {
            "text/plain": [
              "<keras.engine.functional.Functional at 0x7f458a869950>"
            ]
          },
          "metadata": {
            "tags": []
          },
          "execution_count": 27
        }
      ]
    },
    {
      "cell_type": "code",
      "metadata": {
        "id": "MaNHApSs5Gtq"
      },
      "source": [
        "saved_model_predictions = saved_model.predict(test_generator)"
      ],
      "execution_count": null,
      "outputs": []
    },
    {
      "cell_type": "code",
      "metadata": {
        "colab": {
          "base_uri": "https://localhost:8080/"
        },
        "id": "jguJgT_t5Ql5",
        "outputId": "171d77e1-5fa6-44e4-f0de-0ad179b19530"
      },
      "source": [
        "saved_single_pred = np.argmax(saved_model_predictions, axis =1)\n",
        "saved_single_pred"
      ],
      "execution_count": null,
      "outputs": [
        {
          "output_type": "execute_result",
          "data": {
            "text/plain": [
              "array([1, 1, 1, 0, 1, 1, 1, 0, 1, 1, 1, 1, 1, 0, 0, 0, 1, 0, 0, 0, 1, 1,\n",
              "       0, 0, 1, 1, 0, 1, 1, 0, 1, 0, 1, 1, 1, 0, 1, 1, 1, 0, 1, 0, 0, 0,\n",
              "       0, 0, 0, 1, 0, 0, 1, 1, 1, 1, 1, 1, 1, 1, 1, 1, 1, 1, 1, 1, 1, 1,\n",
              "       1, 1, 1, 1, 1, 1, 1, 1, 1, 1, 1, 1, 1, 1, 1, 1, 1, 1, 1, 1, 1, 1,\n",
              "       1, 1, 1, 1, 1, 1, 1, 1, 1, 1, 1, 1, 1, 1, 1, 1, 1, 1, 1, 1, 1, 1,\n",
              "       1, 1, 1, 1])"
            ]
          },
          "metadata": {
            "tags": []
          },
          "execution_count": 29
        }
      ]
    },
    {
      "cell_type": "code",
      "metadata": {
        "colab": {
          "base_uri": "https://localhost:8080/"
        },
        "id": "TohVf3lN5hrr",
        "outputId": "ff9f6c4b-10e1-41fc-92e2-d1846e15a246"
      },
      "source": [
        "confusion_matrix(test_generator.classes, saved_single_pred)"
      ],
      "execution_count": null,
      "outputs": [
        {
          "output_type": "execute_result",
          "data": {
            "text/plain": [
              "array([[23, 30],\n",
              "       [ 0, 61]])"
            ]
          },
          "metadata": {
            "tags": []
          },
          "execution_count": 30
        }
      ]
    },
    {
      "cell_type": "code",
      "metadata": {
        "colab": {
          "base_uri": "https://localhost:8080/"
        },
        "id": "Ibpd7NaL50Fj",
        "outputId": "9b2465e2-3cbf-4cb4-f23d-e76bdc2f4ad4"
      },
      "source": [
        "print(classification_report(test_generator.classes, saved_single_pred))"
      ],
      "execution_count": null,
      "outputs": [
        {
          "output_type": "stream",
          "text": [
            "              precision    recall  f1-score   support\n",
            "\n",
            "           0       1.00      0.43      0.61        53\n",
            "           1       0.67      1.00      0.80        61\n",
            "\n",
            "    accuracy                           0.74       114\n",
            "   macro avg       0.84      0.72      0.70       114\n",
            "weighted avg       0.82      0.74      0.71       114\n",
            "\n"
          ],
          "name": "stdout"
        }
      ]
    },
    {
      "cell_type": "code",
      "metadata": {
        "id": "jLJyys6_55CY"
      },
      "source": [
        ""
      ],
      "execution_count": null,
      "outputs": []
    }
  ]
}