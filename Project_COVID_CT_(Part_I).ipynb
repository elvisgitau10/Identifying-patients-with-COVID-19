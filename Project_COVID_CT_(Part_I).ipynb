{
  "nbformat": 4,
  "nbformat_minor": 0,
  "metadata": {
    "colab": {
      "name": "Project COVID-CT (Part I)",
      "provenance": [],
      "collapsed_sections": [],
      "mount_file_id": "176ejr25-B3arEQEnsqdg7FBmGqMo6oAq",
      "authorship_tag": "ABX9TyNcGo1S3geKbDcBLmCxvS6E",
      "include_colab_link": true
    },
    "kernelspec": {
      "name": "python3",
      "display_name": "Python 3"
    },
    "language_info": {
      "name": "python"
    }
  },
  "cells": [
    {
      "cell_type": "markdown",
      "metadata": {
        "id": "view-in-github",
        "colab_type": "text"
      },
      "source": [
        "<a href=\"https://colab.research.google.com/github/elvisgitau10/Identifying-patients-with-COVID-19/blob/main/Project_COVID_CT_(Part_I).ipynb\" target=\"_parent\"><img src=\"https://colab.research.google.com/assets/colab-badge.svg\" alt=\"Open In Colab\"/></a>"
      ]
    },
    {
      "cell_type": "code",
      "metadata": {
        "colab": {
          "base_uri": "https://localhost:8080/"
        },
        "id": "0zkwqwkhlLBc",
        "outputId": "b3c48bfe-1e6a-4eec-b7b6-505acae2cbcc"
      },
      "source": [
        "! pip install split-folders"
      ],
      "execution_count": null,
      "outputs": [
        {
          "output_type": "stream",
          "text": [
            "Collecting split-folders\n",
            "  Downloading https://files.pythonhosted.org/packages/b8/5f/3c2b2f7ea5e047c8cdc3bb00ae582c5438fcdbbedcc23b3cc1c2c7aae642/split_folders-0.4.3-py3-none-any.whl\n",
            "Installing collected packages: split-folders\n",
            "Successfully installed split-folders-0.4.3\n"
          ],
          "name": "stdout"
        }
      ]
    },
    {
      "cell_type": "code",
      "metadata": {
        "id": "56901XbslzMz"
      },
      "source": [
        "# import split-folders "
      ],
      "execution_count": null,
      "outputs": []
    },
    {
      "cell_type": "code",
      "metadata": {
        "id": "dsnRGjkVl7PC"
      },
      "source": [
        "import splitfolders"
      ],
      "execution_count": null,
      "outputs": []
    },
    {
      "cell_type": "code",
      "metadata": {
        "colab": {
          "base_uri": "https://localhost:8080/"
        },
        "id": "CNwes3IGl9pF",
        "outputId": "ec3fb9bc-03d8-4957-e67f-bfc0a8817925"
      },
      "source": [
        "splitfolders.ratio(input=\"/content/drive/MyDrive/CT Scans/Data\",\n",
        "                   output=\"/content/drive/MyDrive/CT Scans/Data\",\n",
        "                   seed=2021,\n",
        "                   ratio=(0.7,0.15,0.15))"
      ],
      "execution_count": null,
      "outputs": [
        {
          "output_type": "stream",
          "text": [
            "Copying files: 746 files [03:37,  3.43 files/s]\n"
          ],
          "name": "stderr"
        }
      ]
    },
    {
      "cell_type": "code",
      "metadata": {
        "id": "fWPWYdjsmWhP"
      },
      "source": [
        ""
      ],
      "execution_count": null,
      "outputs": []
    }
  ]
}